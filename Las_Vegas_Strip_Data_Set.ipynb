{
 "cells": [
  {
   "cell_type": "markdown",
   "metadata": {},
   "source": [
    "# Las_Vegas_Strip_Data_Set"
   ]
  },
  {
   "cell_type": "code",
   "execution_count": 1,
   "metadata": {},
   "outputs": [],
   "source": [
    "import numpy as np \n",
    "import pandas as pd \n",
    "import matplotlib.pyplot as plt \n",
    "import seaborn as sns \n",
    "from sklearn.model_selection import train_test_split"
   ]
  },
  {
   "cell_type": "code",
   "execution_count": 2,
   "metadata": {},
   "outputs": [
    {
     "data": {
      "text/html": [
       "<div>\n",
       "<style scoped>\n",
       "    .dataframe tbody tr th:only-of-type {\n",
       "        vertical-align: middle;\n",
       "    }\n",
       "\n",
       "    .dataframe tbody tr th {\n",
       "        vertical-align: top;\n",
       "    }\n",
       "\n",
       "    .dataframe thead th {\n",
       "        text-align: right;\n",
       "    }\n",
       "</style>\n",
       "<table border=\"1\" class=\"dataframe\">\n",
       "  <thead>\n",
       "    <tr style=\"text-align: right;\">\n",
       "      <th></th>\n",
       "      <th>User country</th>\n",
       "      <th>Nr. reviews</th>\n",
       "      <th>Nr. hotel reviews</th>\n",
       "      <th>Helpful votes</th>\n",
       "      <th>Score</th>\n",
       "      <th>Period of stay</th>\n",
       "      <th>Traveler type</th>\n",
       "      <th>Pool</th>\n",
       "      <th>Gym</th>\n",
       "      <th>Tennis court</th>\n",
       "      <th>Spa</th>\n",
       "      <th>Casino</th>\n",
       "      <th>Free internet</th>\n",
       "      <th>Hotel name</th>\n",
       "      <th>Hotel stars</th>\n",
       "      <th>Nr. rooms</th>\n",
       "      <th>User continent</th>\n",
       "      <th>Member years</th>\n",
       "      <th>Review month</th>\n",
       "      <th>Review weekday</th>\n",
       "    </tr>\n",
       "  </thead>\n",
       "  <tbody>\n",
       "    <tr>\n",
       "      <th>0</th>\n",
       "      <td>USA</td>\n",
       "      <td>11</td>\n",
       "      <td>4</td>\n",
       "      <td>13</td>\n",
       "      <td>5</td>\n",
       "      <td>Dec-Feb</td>\n",
       "      <td>Friends</td>\n",
       "      <td>NO</td>\n",
       "      <td>YES</td>\n",
       "      <td>NO</td>\n",
       "      <td>NO</td>\n",
       "      <td>YES</td>\n",
       "      <td>YES</td>\n",
       "      <td>Circus Circus Hotel &amp; Casino Las Vegas</td>\n",
       "      <td>3</td>\n",
       "      <td>3773</td>\n",
       "      <td>North America</td>\n",
       "      <td>9</td>\n",
       "      <td>January</td>\n",
       "      <td>Thursday</td>\n",
       "    </tr>\n",
       "    <tr>\n",
       "      <th>1</th>\n",
       "      <td>USA</td>\n",
       "      <td>119</td>\n",
       "      <td>21</td>\n",
       "      <td>75</td>\n",
       "      <td>3</td>\n",
       "      <td>Dec-Feb</td>\n",
       "      <td>Business</td>\n",
       "      <td>NO</td>\n",
       "      <td>YES</td>\n",
       "      <td>NO</td>\n",
       "      <td>NO</td>\n",
       "      <td>YES</td>\n",
       "      <td>YES</td>\n",
       "      <td>Circus Circus Hotel &amp; Casino Las Vegas</td>\n",
       "      <td>3</td>\n",
       "      <td>3773</td>\n",
       "      <td>North America</td>\n",
       "      <td>3</td>\n",
       "      <td>January</td>\n",
       "      <td>Friday</td>\n",
       "    </tr>\n",
       "    <tr>\n",
       "      <th>2</th>\n",
       "      <td>USA</td>\n",
       "      <td>36</td>\n",
       "      <td>9</td>\n",
       "      <td>25</td>\n",
       "      <td>5</td>\n",
       "      <td>Mar-May</td>\n",
       "      <td>Families</td>\n",
       "      <td>NO</td>\n",
       "      <td>YES</td>\n",
       "      <td>NO</td>\n",
       "      <td>NO</td>\n",
       "      <td>YES</td>\n",
       "      <td>YES</td>\n",
       "      <td>Circus Circus Hotel &amp; Casino Las Vegas</td>\n",
       "      <td>3</td>\n",
       "      <td>3773</td>\n",
       "      <td>North America</td>\n",
       "      <td>2</td>\n",
       "      <td>February</td>\n",
       "      <td>Saturday</td>\n",
       "    </tr>\n",
       "    <tr>\n",
       "      <th>3</th>\n",
       "      <td>UK</td>\n",
       "      <td>14</td>\n",
       "      <td>7</td>\n",
       "      <td>14</td>\n",
       "      <td>4</td>\n",
       "      <td>Mar-May</td>\n",
       "      <td>Friends</td>\n",
       "      <td>NO</td>\n",
       "      <td>YES</td>\n",
       "      <td>NO</td>\n",
       "      <td>NO</td>\n",
       "      <td>YES</td>\n",
       "      <td>YES</td>\n",
       "      <td>Circus Circus Hotel &amp; Casino Las Vegas</td>\n",
       "      <td>3</td>\n",
       "      <td>3773</td>\n",
       "      <td>Europe</td>\n",
       "      <td>6</td>\n",
       "      <td>February</td>\n",
       "      <td>Friday</td>\n",
       "    </tr>\n",
       "    <tr>\n",
       "      <th>4</th>\n",
       "      <td>Canada</td>\n",
       "      <td>5</td>\n",
       "      <td>5</td>\n",
       "      <td>2</td>\n",
       "      <td>4</td>\n",
       "      <td>Mar-May</td>\n",
       "      <td>Solo</td>\n",
       "      <td>NO</td>\n",
       "      <td>YES</td>\n",
       "      <td>NO</td>\n",
       "      <td>NO</td>\n",
       "      <td>YES</td>\n",
       "      <td>YES</td>\n",
       "      <td>Circus Circus Hotel &amp; Casino Las Vegas</td>\n",
       "      <td>3</td>\n",
       "      <td>3773</td>\n",
       "      <td>North America</td>\n",
       "      <td>7</td>\n",
       "      <td>March</td>\n",
       "      <td>Tuesday</td>\n",
       "    </tr>\n",
       "  </tbody>\n",
       "</table>\n",
       "</div>"
      ],
      "text/plain": [
       "  User country  Nr. reviews  Nr. hotel reviews  Helpful votes  Score  \\\n",
       "0          USA           11                  4             13      5   \n",
       "1          USA          119                 21             75      3   \n",
       "2          USA           36                  9             25      5   \n",
       "3           UK           14                  7             14      4   \n",
       "4       Canada            5                  5              2      4   \n",
       "\n",
       "  Period of stay Traveler type Pool  Gym Tennis court Spa Casino  \\\n",
       "0        Dec-Feb       Friends   NO  YES           NO  NO    YES   \n",
       "1        Dec-Feb      Business   NO  YES           NO  NO    YES   \n",
       "2        Mar-May      Families   NO  YES           NO  NO    YES   \n",
       "3        Mar-May       Friends   NO  YES           NO  NO    YES   \n",
       "4        Mar-May          Solo   NO  YES           NO  NO    YES   \n",
       "\n",
       "  Free internet                              Hotel name Hotel stars  \\\n",
       "0           YES  Circus Circus Hotel & Casino Las Vegas           3   \n",
       "1           YES  Circus Circus Hotel & Casino Las Vegas           3   \n",
       "2           YES  Circus Circus Hotel & Casino Las Vegas           3   \n",
       "3           YES  Circus Circus Hotel & Casino Las Vegas           3   \n",
       "4           YES  Circus Circus Hotel & Casino Las Vegas           3   \n",
       "\n",
       "   Nr. rooms User continent  Member years Review month Review weekday  \n",
       "0       3773  North America             9      January       Thursday  \n",
       "1       3773  North America             3      January         Friday  \n",
       "2       3773  North America             2     February       Saturday  \n",
       "3       3773         Europe             6     February         Friday  \n",
       "4       3773  North America             7        March        Tuesday  "
      ]
     },
     "execution_count": 2,
     "metadata": {},
     "output_type": "execute_result"
    }
   ],
   "source": [
    "data = pd.read_csv('LasVegasTripAdvisorReviews-Dataset.csv', sep=';')\n",
    "data.head()"
   ]
  },
  {
   "cell_type": "markdown",
   "metadata": {},
   "source": [
    "There are numeric variables in dataset. Have a preliminary look first "
   ]
  },
  {
   "cell_type": "code",
   "execution_count": 3,
   "metadata": {},
   "outputs": [
    {
     "data": {
      "text/plain": [
       "(504, 20)"
      ]
     },
     "execution_count": 3,
     "metadata": {},
     "output_type": "execute_result"
    }
   ],
   "source": [
    "data.shape"
   ]
  },
  {
   "cell_type": "markdown",
   "metadata": {},
   "source": [
    "There are 504 records with 20 variables "
   ]
  },
  {
   "cell_type": "code",
   "execution_count": 4,
   "metadata": {},
   "outputs": [
    {
     "name": "stdout",
     "output_type": "stream",
     "text": [
      "<class 'pandas.core.frame.DataFrame'>\n",
      "RangeIndex: 504 entries, 0 to 503\n",
      "Data columns (total 20 columns):\n",
      "User country         504 non-null object\n",
      "Nr. reviews          504 non-null int64\n",
      "Nr. hotel reviews    504 non-null int64\n",
      "Helpful votes        504 non-null int64\n",
      "Score                504 non-null int64\n",
      "Period of stay       504 non-null object\n",
      "Traveler type        504 non-null object\n",
      "Pool                 504 non-null object\n",
      "Gym                  504 non-null object\n",
      "Tennis court         504 non-null object\n",
      "Spa                  504 non-null object\n",
      "Casino               504 non-null object\n",
      "Free internet        504 non-null object\n",
      "Hotel name           504 non-null object\n",
      "Hotel stars          504 non-null object\n",
      "Nr. rooms            504 non-null int64\n",
      "User continent       504 non-null object\n",
      "Member years         504 non-null int64\n",
      "Review month         504 non-null object\n",
      "Review weekday       504 non-null object\n",
      "dtypes: int64(6), object(14)\n",
      "memory usage: 78.8+ KB\n"
     ]
    }
   ],
   "source": [
    "data.info()"
   ]
  },
  {
   "cell_type": "code",
   "execution_count": 28,
   "metadata": {
    "scrolled": true
   },
   "outputs": [
    {
     "data": {
      "text/plain": [
       "User country         False\n",
       "Nr. reviews          False\n",
       "Nr. hotel reviews    False\n",
       "Helpful votes        False\n",
       "Score                False\n",
       "Period of stay       False\n",
       "Traveler type        False\n",
       "Pool                 False\n",
       "Gym                  False\n",
       "Tennis court         False\n",
       "Spa                  False\n",
       "Casino               False\n",
       "Free internet        False\n",
       "Hotel name           False\n",
       "Hotel stars          False\n",
       "Nr. rooms            False\n",
       "Member years         False\n",
       "Review month         False\n",
       "Review weekday       False\n",
       "dtype: bool"
      ]
     },
     "execution_count": 28,
     "metadata": {},
     "output_type": "execute_result"
    }
   ],
   "source": [
    "data.isnull().any()"
   ]
  },
  {
   "cell_type": "markdown",
   "metadata": {},
   "source": [
    "There is no missing variable in dataset "
   ]
  },
  {
   "cell_type": "markdown",
   "metadata": {},
   "source": [
    "There are two columns related to users' origination, User country and User continent. From the column names, we can guess User country is a subset of User continent. See if there is duplicated information. If so then we can remove User continent"
   ]
  },
  {
   "cell_type": "code",
   "execution_count": 5,
   "metadata": {},
   "outputs": [
    {
     "name": "stdout",
     "output_type": "stream",
     "text": [
      "Mexico has more than one continent\n"
     ]
    }
   ],
   "source": [
    "for i in data['User country'].unique():\n",
    "    if len(data[data['User country']==i]['User continent'].unique())==1:\n",
    "        pass\n",
    "    else:\n",
    "        print('{0} has more than one continent'.format(i))"
   ]
  },
  {
   "cell_type": "markdown",
   "metadata": {},
   "source": [
    "Only Mexico has more than one continent. Let's have a look in detail\n"
   ]
  },
  {
   "cell_type": "code",
   "execution_count": 6,
   "metadata": {},
   "outputs": [
    {
     "data": {
      "text/html": [
       "<div>\n",
       "<style scoped>\n",
       "    .dataframe tbody tr th:only-of-type {\n",
       "        vertical-align: middle;\n",
       "    }\n",
       "\n",
       "    .dataframe tbody tr th {\n",
       "        vertical-align: top;\n",
       "    }\n",
       "\n",
       "    .dataframe thead th {\n",
       "        text-align: right;\n",
       "    }\n",
       "</style>\n",
       "<table border=\"1\" class=\"dataframe\">\n",
       "  <thead>\n",
       "    <tr style=\"text-align: right;\">\n",
       "      <th></th>\n",
       "      <th>User country</th>\n",
       "      <th>User continent</th>\n",
       "    </tr>\n",
       "  </thead>\n",
       "  <tbody>\n",
       "    <tr>\n",
       "      <th>71</th>\n",
       "      <td>Mexico</td>\n",
       "      <td>North America</td>\n",
       "    </tr>\n",
       "    <tr>\n",
       "      <th>86</th>\n",
       "      <td>Mexico</td>\n",
       "      <td>South America</td>\n",
       "    </tr>\n",
       "    <tr>\n",
       "      <th>168</th>\n",
       "      <td>Mexico</td>\n",
       "      <td>North America</td>\n",
       "    </tr>\n",
       "    <tr>\n",
       "      <th>290</th>\n",
       "      <td>Mexico</td>\n",
       "      <td>North America</td>\n",
       "    </tr>\n",
       "    <tr>\n",
       "      <th>309</th>\n",
       "      <td>Mexico</td>\n",
       "      <td>North America</td>\n",
       "    </tr>\n",
       "    <tr>\n",
       "      <th>331</th>\n",
       "      <td>Mexico</td>\n",
       "      <td>North America</td>\n",
       "    </tr>\n",
       "    <tr>\n",
       "      <th>383</th>\n",
       "      <td>Mexico</td>\n",
       "      <td>North America</td>\n",
       "    </tr>\n",
       "    <tr>\n",
       "      <th>411</th>\n",
       "      <td>Mexico</td>\n",
       "      <td>North America</td>\n",
       "    </tr>\n",
       "  </tbody>\n",
       "</table>\n",
       "</div>"
      ],
      "text/plain": [
       "    User country User continent\n",
       "71        Mexico  North America\n",
       "86        Mexico  South America\n",
       "168       Mexico  North America\n",
       "290       Mexico  North America\n",
       "309       Mexico  North America\n",
       "331       Mexico  North America\n",
       "383       Mexico  North America\n",
       "411       Mexico  North America"
      ]
     },
     "execution_count": 6,
     "metadata": {},
     "output_type": "execute_result"
    }
   ],
   "source": [
    "data[data['User country']=='Mexico'][['User country','User continent']]"
   ]
  },
  {
   "cell_type": "markdown",
   "metadata": {},
   "source": [
    "Appearantly there is a misclassification on row 86(Mexico should be in North America). Therefore that record should be amended "
   ]
  },
  {
   "cell_type": "code",
   "execution_count": 7,
   "metadata": {},
   "outputs": [
    {
     "name": "stderr",
     "output_type": "stream",
     "text": [
      "C:\\ProgramData\\Anaconda3\\envs\\tensorflow\\lib\\site-packages\\ipykernel_launcher.py:1: SettingWithCopyWarning: \n",
      "A value is trying to be set on a copy of a slice from a DataFrame\n",
      "\n",
      "See the caveats in the documentation: http://pandas.pydata.org/pandas-docs/stable/indexing.html#indexing-view-versus-copy\n",
      "  \"\"\"Entry point for launching an IPython kernel.\n"
     ]
    },
    {
     "data": {
      "text/plain": [
       "array(['North America'], dtype=object)"
      ]
     },
     "execution_count": 7,
     "metadata": {},
     "output_type": "execute_result"
    }
   ],
   "source": [
    "data['User continent'][86]='North America'\n",
    "data[data['User country']=='Mexico']['User continent'].unique()"
   ]
  },
  {
   "cell_type": "markdown",
   "metadata": {},
   "source": [
    "So now all countries have only one continent. User continent can be deleted "
   ]
  },
  {
   "cell_type": "code",
   "execution_count": 8,
   "metadata": {},
   "outputs": [],
   "source": [
    "del data['User continent']"
   ]
  },
  {
   "cell_type": "markdown",
   "metadata": {},
   "source": [
    "After that, we can see if there is any categorical column that only has one unique value. If so then we can also remove from the dataset "
   ]
  },
  {
   "cell_type": "code",
   "execution_count": 9,
   "metadata": {},
   "outputs": [],
   "source": [
    "category_variable = list(data.select_dtypes(include='object').columns.values)\n",
    "for i in category_variable:\n",
    "    if len(data[i].unique())==1:\n",
    "        print('{0} has only one unique value')"
   ]
  },
  {
   "cell_type": "markdown",
   "metadata": {},
   "source": [
    "So there is no variable having only one value. That's good "
   ]
  },
  {
   "cell_type": "markdown",
   "metadata": {},
   "source": [
    "Next is to have a look on overall rating in Las Vegas "
   ]
  },
  {
   "cell_type": "code",
   "execution_count": 10,
   "metadata": {},
   "outputs": [
    {
     "data": {
      "text/plain": [
       "<matplotlib.axes._subplots.AxesSubplot at 0x509ed78b70>"
      ]
     },
     "execution_count": 10,
     "metadata": {},
     "output_type": "execute_result"
    },
    {
     "data": {
      "image/png": "[encoded data removed]",
      "text/plain": [
       "<Figure size 432x288 with 1 Axes>"
      ]
     },
     "metadata": {},
     "output_type": "display_data"
    }
   ],
   "source": [
    "sns.countplot(x='Score',data=data)"
   ]
  },
  {
   "cell_type": "code",
   "execution_count": 11,
   "metadata": {},
   "outputs": [
    {
     "name": "stdout",
     "output_type": "stream",
     "text": [
      "There are 11 users rating 1\n",
      "There are 30 users rating 2\n",
      "There are 72 users rating 3\n",
      "There are 164 users rating 4\n",
      "There are 227 users rating 5\n"
     ]
    }
   ],
   "source": [
    "for i in sorted(data['Score'].unique()):\n",
    "    print('There are {0} users rating {1}'.format(data[data['Score']==i].shape[0],i))"
   ]
  },
  {
   "cell_type": "markdown",
   "metadata": {},
   "source": [
    "Most users give 4 or 5 in score. Not surprised, it is Vegas\n",
    "<br>As most users give 4 or 5, I am curious those records with score only 1 to 3. We can see if there is any particular reason causing such low score "
   ]
  },
  {
   "cell_type": "code",
   "execution_count": 12,
   "metadata": {},
   "outputs": [],
   "source": [
    "data_lr=data[data['Score'].isin([1,2,3])]"
   ]
  },
  {
   "cell_type": "code",
   "execution_count": 13,
   "metadata": {},
   "outputs": [
    {
     "data": {
      "text/plain": [
       "(113, 19)"
      ]
     },
     "execution_count": 13,
     "metadata": {},
     "output_type": "execute_result"
    }
   ],
   "source": [
    "data_lr.shape"
   ]
  },
  {
   "cell_type": "markdown",
   "metadata": {},
   "source": [
    "Therer are 113 records with score 1 to 3"
   ]
  },
  {
   "cell_type": "markdown",
   "metadata": {},
   "source": [
    "First question, which hotel??"
   ]
  },
  {
   "cell_type": "code",
   "execution_count": 14,
   "metadata": {},
   "outputs": [
    {
     "data": {
      "text/plain": [
       "Hotel name\n",
       "Circus Circus Hotel & Casino Las Vegas                 13\n",
       "Monte Carlo Resort&Casino                              12\n",
       "Excalibur Hotel & Casino                               10\n",
       "Hilton Grand Vacations at the Flamingo                  8\n",
       "Tuscany Las Vegas Suites & Casino                       7\n",
       "The Westin las Vegas Hotel Casino & Spa                 7\n",
       "Treasure Island- TI Hotel & Casino                      6\n",
       "The Cromwell                                            6\n",
       "Paris Las Vegas                                         6\n",
       "Caesars Palace                                          5\n",
       "Tropicana Las Vegas - A Double Tree by Hilton Hotel     5\n",
       "The Cosmopolitan Las Vegas                              4\n",
       "Hilton Grand Vacations on the Boulevard                 4\n",
       "Bellagio Las Vegas                                      4\n",
       "The Palazzo Resort Hotel Casino                         4\n",
       "Wyndham Grand Desert                                    3\n",
       "Trump International Hotel Las Vegas                     3\n",
       "Encore at wynn Las Vegas                                2\n",
       "Wynn Las Vegas                                          2\n",
       "Marriott's Grand Chateau                                1\n",
       "The Venetian Las Vegas Hotel                            1\n",
       "Name: Hotel name, dtype: int64"
      ]
     },
     "execution_count": 14,
     "metadata": {},
     "output_type": "execute_result"
    }
   ],
   "source": [
    "data_lr.groupby('Hotel name')['Hotel name'].count().sort_values(ascending=False)"
   ]
  },
  {
   "cell_type": "markdown",
   "metadata": {},
   "source": [
    "So the first three hotels with highest number of low scores are Circus Circus Hotel & Casino Las Vegas, Monte Carlo Resort&Casino and Excalibur Hotel & Casino\n",
    "<br>Let's check the distribution of score for these three hotels in original dataset "
   ]
  },
  {
   "cell_type": "code",
   "execution_count": 15,
   "metadata": {},
   "outputs": [
    {
     "data": {
      "text/plain": [
       "<seaborn.axisgrid.FacetGrid at 0x50a0e0c6d8>"
      ]
     },
     "execution_count": 15,
     "metadata": {},
     "output_type": "execute_result"
    },
    {
     "data": {
      "image/png": "[encoded data removed]",
      "text/plain": [
       "<Figure size 1080x360 with 3 Axes>"
      ]
     },
     "metadata": {},
     "output_type": "display_data"
    }
   ],
   "source": [
    "low_score_hotel=['Circus Circus Hotel & Casino Las Vegas','Monte Carlo Resort&Casino','Excalibur Hotel & Casino']\n",
    "sns.catplot(x='Score',col='Hotel name',data=data[data['Hotel name'].isin(low_score_hotel)],kind='count')"
   ]
  },
  {
   "cell_type": "code",
   "execution_count": 25,
   "metadata": {},
   "outputs": [
    {
     "name": "stdout",
     "output_type": "stream",
     "text": [
      "In Circus Circus Hotel & Casino Las Vegas, there are 2 users rating 1\n",
      "In Circus Circus Hotel & Casino Las Vegas, there are 4 users rating 2\n",
      "In Circus Circus Hotel & Casino Las Vegas, there are 7 users rating 3\n",
      "In Circus Circus Hotel & Casino Las Vegas, there are 9 users rating 4\n",
      "In Circus Circus Hotel & Casino Las Vegas, there are 2 users rating 5\n",
      "\n",
      "In Monte Carlo Resort&Casino, there are 1 users rating 1\n",
      "In Monte Carlo Resort&Casino, there are 5 users rating 2\n",
      "In Monte Carlo Resort&Casino, there are 6 users rating 3\n",
      "In Monte Carlo Resort&Casino, there are 10 users rating 4\n",
      "In Monte Carlo Resort&Casino, there are 2 users rating 5\n",
      "\n",
      "In Excalibur Hotel & Casino, there are 0 users rating 1\n",
      "In Excalibur Hotel & Casino, there are 1 users rating 2\n",
      "In Excalibur Hotel & Casino, there are 9 users rating 3\n",
      "In Excalibur Hotel & Casino, there are 10 users rating 4\n",
      "In Excalibur Hotel & Casino, there are 4 users rating 5\n",
      "\n"
     ]
    }
   ],
   "source": [
    "for i in low_score_hotel:\n",
    "    for j in sorted(data['Score'].unique()):\n",
    "        print('In {0}, there are {1} users rating {2}'.format(i,data[(data['Score']==j) & (data['Hotel name']==i)].shape[0],j))\n",
    "    print()"
   ]
  },
  {
   "cell_type": "markdown",
   "metadata": {},
   "source": [
    "Appearantly for these three hotels, around half of users give 1,2 or 3 and half give 4 and 5. Seem the low rating of hotel is not across all users. Need further investigation on cause of low rating"
   ]
  },
  {
   "cell_type": "markdown",
   "metadata": {},
   "source": [
    "Second question relating score is about hotel star. Does a hotel with a higher star impress uesr more than a hotel with a lower star?"
   ]
  },
  {
   "cell_type": "code",
   "execution_count": 27,
   "metadata": {},
   "outputs": [
    {
     "data": {
      "text/plain": [
       "<matplotlib.axes._subplots.AxesSubplot at 0x509907b630>"
      ]
     },
     "execution_count": 27,
     "metadata": {},
     "output_type": "execute_result"
    },
    {
     "data": {
      "image/png": "[encoded data removed]",
      "text/plain": [
       "<Figure size 432x288 with 1 Axes>"
      ]
     },
     "metadata": {},
     "output_type": "display_data"
    }
   ],
   "source": [
    "sns.boxplot(x='Hotel stars',y='Score',data=data)"
   ]
  },
  {
   "cell_type": "markdown",
   "metadata": {},
   "source": [
    "Probably because all hotels are in Vegas, even hotels with lower hotel stars still provide good services to customers. Average score for each hotel star category is over 4. So there is no difference between hotels with higher stars and with lower stars "
   ]
  },
  {
   "attachments": {},
   "cell_type": "markdown",
   "metadata": {},
   "source": [
    "Another possible angle is regarding to facilities.  In dataset, there are six variables about facilities, Pool,Gym,Tennis court\t,Spa,Casino and Free internet. Let's have a look on whether providing these facilities can boost users' satisfication."
   ]
  },
  {
   "cell_type": "code",
   "execution_count": 31,
   "metadata": {},
   "outputs": [
    {
     "data": {
      "image/png": "[encoded data removed]",
      "text/plain": [
       "<Figure size 432x216 with 1 Axes>"
      ]
     },
     "metadata": {},
     "output_type": "display_data"
    },
    {
     "data": {
      "image/png": "[encoded data removed]",
      "text/plain": [
       "<Figure size 432x216 with 1 Axes>"
      ]
     },
     "metadata": {},
     "output_type": "display_data"
    },
    {
     "data": {
      "image/png": "[encoded data removed]",
      "text/plain": [
       "<Figure size 432x216 with 1 Axes>"
      ]
     },
     "metadata": {},
     "output_type": "display_data"
    },
    {
     "data": {
      "image/png": "[encoded data removed]",
      "text/plain": [
       "<Figure size 432x216 with 1 Axes>"
      ]
     },
     "metadata": {},
     "output_type": "display_data"
    },
    {
     "data": {
      "image/png": "[encoded data removed]",
      "text/plain": [
       "<Figure size 432x216 with 1 Axes>"
      ]
     },
     "metadata": {},
     "output_type": "display_data"
    },
    {
     "data": {
      "image/png": "[encoded data removed]",
      "text/plain": [
       "<Figure size 432x216 with 1 Axes>"
      ]
     },
     "metadata": {},
     "output_type": "display_data"
    }
   ],
   "source": [
    "facilities_list=['Pool','Gym','Tennis court','Spa','Casino','Free internet']\n",
    "for i in facilities_list:\n",
    "    plt.figure(figsize=(6,3))\n",
    "    sns.boxplot(x=i,y='Score',data=data)\n",
    "    plt.show()"
   ]
  },
  {
   "cell_type": "markdown",
   "metadata": {},
   "source": [
    "There is a decrease on score for hotel without pool and free internet(why would people stay in hotels without free wifi??)"
   ]
  },
  {
   "cell_type": "markdown",
   "metadata": {},
   "source": [
    "Dataset also contains users' purpose of staying. We can also see if there is any correlation with their rating "
   ]
  },
  {
   "cell_type": "code",
   "execution_count": 32,
   "metadata": {},
   "outputs": [
    {
     "data": {
      "text/plain": [
       "<matplotlib.axes._subplots.AxesSubplot at 0x50990e7cf8>"
      ]
     },
     "execution_count": 32,
     "metadata": {},
     "output_type": "execute_result"
    },
    {
     "data": {
      "image/png": "[encoded data removed]",
      "text/plain": [
       "<Figure size 432x288 with 1 Axes>"
      ]
     },
     "metadata": {},
     "output_type": "display_data"
    }
   ],
   "source": [
    "sns.boxplot(x='Traveler type',y='Score',data=data)"
   ]
  },
  {
   "cell_type": "markdown",
   "metadata": {},
   "source": [
    "No significant variance.."
   ]
  },
  {
   "cell_type": "markdown",
   "metadata": {},
   "source": [
    "Now back to users' country, see if any visitors from particular country will give higher score"
   ]
  },
  {
   "cell_type": "code",
   "execution_count": 37,
   "metadata": {},
   "outputs": [
    {
     "data": {
      "image/png": "[encoded data removed]",
      "text/plain": [
       "<Figure size 3600x432 with 1 Axes>"
      ]
     },
     "metadata": {},
     "output_type": "display_data"
    }
   ],
   "source": [
    "plt.figure(figsize=(50,6))\n",
    "sns.boxplot(x='User country',y='Score',data=data)\n",
    "plt.show()"
   ]
  },
  {
   "cell_type": "markdown",
   "metadata": {},
   "source": [
    "For some countries, data are insufficiant or even there is only one record for that country, which is meaningless for explanation. However, average rates of Thailand and spain are only 3, while others are at least 4. "
   ]
  },
  {
   "cell_type": "markdown",
   "metadata": {},
   "source": [
    "One more analysis is about user's number of view and hotel review. Maybe more frequent users will give better or lower rating "
   ]
  },
  {
   "cell_type": "code",
   "execution_count": 43,
   "metadata": {},
   "outputs": [
    {
     "data": {
      "image/png": "[encoded data removed]",
      "text/plain": [
       "<Figure size 1440x864 with 2 Axes>"
      ]
     },
     "metadata": {},
     "output_type": "display_data"
    }
   ],
   "source": [
    "plt.figure(figsize=(20,12))\n",
    "sns.heatmap(data[['Nr. reviews','Nr. hotel reviews','Score']].corr(), annot=True)\n",
    "plt.show()"
   ]
  },
  {
   "cell_type": "markdown",
   "metadata": {},
   "source": [
    "No any impact on score"
   ]
  },
  {
   "cell_type": "code",
   "execution_count": null,
   "metadata": {},
   "outputs": [],
   "source": []
  }
 ],
 "metadata": {
  "kernelspec": {
   "display_name": "Python 3",
   "language": "python",
   "name": "python3"
  },
  "language_info": {
   "codemirror_mode": {
    "name": "ipython",
    "version": 3
   },
   "file_extension": ".py",
   "mimetype": "text/x-python",
   "name": "python",
   "nbconvert_exporter": "python",
   "pygments_lexer": "ipython3",
   "version": "3.5.5"
  }
 },
 "nbformat": 4,
 "nbformat_minor": 2
}
